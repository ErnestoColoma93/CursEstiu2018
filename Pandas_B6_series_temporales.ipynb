{
 "cells": [
  {
   "cell_type": "code",
   "execution_count": 24,
   "metadata": {
    "slideshow": {
     "slide_type": "skip"
    }
   },
   "outputs": [],
   "source": [
    "%matplotlib inline"
   ]
  },
  {
   "cell_type": "markdown",
   "metadata": {
    "slideshow": {
     "slide_type": "slide"
    }
   },
   "source": [
    "# Bloque 6.\n",
    "\n",
    "# Series Temporales\n",
    "\n",
    "Las series temporales son muestras de valores tomadas a lo largo de un tiempo con un muestro generalmente equidistante. Por ejemplo, registros climatológicos, comprobaciones de seguridad, etc.\n",
    "\n",
    "Pandas gestiona las series temporales usando el indice: un índice que es un fecha (datetime)\n",
    "\n",
    "El indice de un dataframe es el pilar básico de acceso a los valores, por lo cual es más eficiente filtrar, seleccionar, interpolar, ...\n",
    "\n",
    "Nuestros anteriores dataframes tenian un índice númerico. Ahora trabajaremos con índices de tiempo.\n",
    "\n",
    "Documentación: <a target=\"_blank\" href=\"https://pandas.pydata.org/pandas-docs/stable/timeseries.html\">TimeSeries</a> (see)\n"
   ]
  },
  {
   "cell_type": "code",
   "execution_count": 1,
   "metadata": {
    "slideshow": {
     "slide_type": "slide"
    }
   },
   "outputs": [
    {
     "name": "stdout",
     "output_type": "stream",
     "text": [
      "      Unnamed: 0      idDate  wind  temperature_mean\n",
      "0              0  2015/11/28   4.0              12.0\n",
      "1              1  2015/11/29   3.0              12.0\n",
      "2              2  2012/06/19  10.0              27.0\n",
      "3              3  2015/11/20   6.0              14.0\n",
      "4              4  2015/11/21  22.0              15.0\n",
      "5              5  2015/11/22   7.0              10.0\n",
      "6              6  2015/11/23  12.0               8.0\n",
      "7              7  2015/11/24   6.0               8.0\n",
      "8              8  2015/11/25   8.0               9.0\n",
      "9              9  2015/11/26  18.0              14.0\n",
      "10            10  2015/11/27  17.0              12.0\n",
      "11            11  2013/10/25   8.0              22.0\n",
      "12            12  2013/10/24   4.0              20.0\n",
      "13            13  2013/10/27   4.0              22.0\n",
      "14            14  2013/10/26  11.0              25.0\n",
      "15            15  2013/10/21   4.0              20.0\n",
      "16            16  2013/10/20   3.0              21.0\n",
      "17            17  2013/10/23   8.0              22.0\n",
      "18            18  2013/10/22   6.0              20.0\n",
      "19            19  2007/05/19   7.0              20.0\n",
      "20            20  2013/10/29  14.0              18.0\n",
      "21            21  2013/10/28   3.0              20.0\n",
      "22            22  2012/10/28  12.0              53.0\n",
      "23            23  2012/10/29   4.0              10.0\n",
      "24            24  2011/06/17   6.0              24.0\n",
      "25            25  2012/10/20  11.0              24.0\n",
      "26            26  2012/10/21  14.0              19.0\n",
      "27            27  2012/10/22  17.0              19.0\n",
      "28            28  2012/10/23   4.0              18.0\n",
      "29            29  2012/10/24   4.0              18.0\n",
      "...          ...         ...   ...               ...\n",
      "2771        2771  2009/09/24   5.0              21.0\n",
      "2772        2772  2009/07/18  10.0              23.0\n",
      "2773        2773  2012/10/19  10.0              24.0\n",
      "2774        2774  2009/07/12   6.0              25.0\n",
      "2775        2775  2009/07/14  10.0              27.0\n",
      "2776        2776  2009/07/17  12.0              28.0\n",
      "2777        2777  2015/10/13   6.0              19.0\n",
      "2778        2778  2008/05/05   7.0              16.0\n",
      "2779        2779  2009/09/25   4.0              20.0\n",
      "2780        2780  2008/05/06   8.0              18.0\n",
      "2781        2781  2008/05/01  10.0              16.0\n",
      "2782        2782  2009/08/06   7.0              24.0\n",
      "2783        2783  2008/05/03  10.0              19.0\n",
      "2784        2784  2009/08/09   7.0              25.0\n",
      "2785        2785  2009/08/08   9.0              26.0\n",
      "2786        2786  2007/03/09  10.0              13.0\n",
      "2787        2787  2009/01/12   5.0               8.0\n",
      "2788        2788  2009/01/11   9.0               8.0\n",
      "2789        2789  2009/01/10   5.0               8.0\n",
      "2790        2790  2009/01/17   4.0              10.0\n",
      "2791        2791  2009/01/16   6.0               9.0\n",
      "2792        2792  2009/01/15   9.0               8.0\n",
      "2793        2793  2009/01/18   8.0               8.0\n",
      "2794        2794  2009/08/07   8.0              25.0\n",
      "2795        2795  2010/07/13   6.0              24.0\n",
      "2796        2796  2006/10/08   6.0              22.0\n",
      "2797        2797  2016/04/08   6.0              10.0\n",
      "2798        2798  2007/10/26   5.0              15.0\n",
      "2799        2799  2009/09/13   6.0              22.0\n",
      "2800        2800  2011/10/18   4.0              18.0\n",
      "\n",
      "[2801 rows x 4 columns]\n"
     ]
    }
   ],
   "source": [
    "#Cargamos el fichero de climaMallorca\n",
    "import pandas as pd\n",
    "from pandas import DatetimeIndex\n",
    "df= pd.read_csv(\"data/climaMallorca.csv\")  #**\n",
    "print( df )#**"
   ]
  },
  {
   "cell_type": "code",
   "execution_count": 4,
   "metadata": {
    "slideshow": {
     "slide_type": "slide"
    }
   },
   "outputs": [
    {
     "data": {
      "text/html": [
       "<div>\n",
       "<style scoped>\n",
       "    .dataframe tbody tr th:only-of-type {\n",
       "        vertical-align: middle;\n",
       "    }\n",
       "\n",
       "    .dataframe tbody tr th {\n",
       "        vertical-align: top;\n",
       "    }\n",
       "\n",
       "    .dataframe thead th {\n",
       "        text-align: right;\n",
       "    }\n",
       "</style>\n",
       "<table border=\"1\" class=\"dataframe\">\n",
       "  <thead>\n",
       "    <tr style=\"text-align: right;\">\n",
       "      <th></th>\n",
       "      <th>Unnamed: 0</th>\n",
       "      <th>wind</th>\n",
       "      <th>temperature_mean</th>\n",
       "    </tr>\n",
       "  </thead>\n",
       "  <tbody>\n",
       "    <tr>\n",
       "      <th>count</th>\n",
       "      <td>2801.000000</td>\n",
       "      <td>2801.000000</td>\n",
       "      <td>2801.000000</td>\n",
       "    </tr>\n",
       "    <tr>\n",
       "      <th>mean</th>\n",
       "      <td>1400.000000</td>\n",
       "      <td>8.111746</td>\n",
       "      <td>17.298108</td>\n",
       "    </tr>\n",
       "    <tr>\n",
       "      <th>std</th>\n",
       "      <td>808.723377</td>\n",
       "      <td>4.975943</td>\n",
       "      <td>8.193379</td>\n",
       "    </tr>\n",
       "    <tr>\n",
       "      <th>min</th>\n",
       "      <td>0.000000</td>\n",
       "      <td>0.000000</td>\n",
       "      <td>2.000000</td>\n",
       "    </tr>\n",
       "    <tr>\n",
       "      <th>25%</th>\n",
       "      <td>700.000000</td>\n",
       "      <td>5.000000</td>\n",
       "      <td>12.000000</td>\n",
       "    </tr>\n",
       "    <tr>\n",
       "      <th>50%</th>\n",
       "      <td>1400.000000</td>\n",
       "      <td>7.000000</td>\n",
       "      <td>16.000000</td>\n",
       "    </tr>\n",
       "    <tr>\n",
       "      <th>75%</th>\n",
       "      <td>2100.000000</td>\n",
       "      <td>10.000000</td>\n",
       "      <td>22.000000</td>\n",
       "    </tr>\n",
       "    <tr>\n",
       "      <th>max</th>\n",
       "      <td>2800.000000</td>\n",
       "      <td>43.000000</td>\n",
       "      <td>82.000000</td>\n",
       "    </tr>\n",
       "  </tbody>\n",
       "</table>\n",
       "</div>"
      ],
      "text/plain": [
       "        Unnamed: 0         wind  temperature_mean\n",
       "count  2801.000000  2801.000000       2801.000000\n",
       "mean   1400.000000     8.111746         17.298108\n",
       "std     808.723377     4.975943          8.193379\n",
       "min       0.000000     0.000000          2.000000\n",
       "25%     700.000000     5.000000         12.000000\n",
       "50%    1400.000000     7.000000         16.000000\n",
       "75%    2100.000000    10.000000         22.000000\n",
       "max    2800.000000    43.000000         82.000000"
      ]
     },
     "execution_count": 4,
     "metadata": {},
     "output_type": "execute_result"
    }
   ],
   "source": [
    "#Ya SABEMOS/podemos ver en que consisten esos datos\n",
    "df.describe() #**"
   ]
  },
  {
   "cell_type": "code",
   "execution_count": 5,
   "metadata": {
    "slideshow": {
     "slide_type": "slide"
    }
   },
   "outputs": [
    {
     "data": {
      "text/plain": [
       "<matplotlib.axes._subplots.AxesSubplot at 0x208e5bfb358>"
      ]
     },
     "execution_count": 5,
     "metadata": {},
     "output_type": "execute_result"
    }
   ],
   "source": [
    "#Ya SABEMOS/podemos ver en que consisten esos datos\n",
    "df.wind.plot(kind=\"hist\") #**"
   ]
  },
  {
   "cell_type": "code",
   "execution_count": 6,
   "metadata": {
    "slideshow": {
     "slide_type": "slide"
    }
   },
   "outputs": [
    {
     "data": {
      "text/plain": [
       "<matplotlib.axes._subplots.AxesSubplot at 0x208e5cf6668>"
      ]
     },
     "execution_count": 6,
     "metadata": {},
     "output_type": "execute_result"
    },
    {
     "data": {
      "image/png": "[encoded data removed]",
      "text/plain": [
       "<matplotlib.figure.Figure at 0x208e421eba8>"
      ]
     },
     "metadata": {},
     "output_type": "display_data"
    }
   ],
   "source": [
    "#Ya SABEMOS/podemos ver en que consisten esos datos\n",
    "df.temperature_mean.plot(kind=\"hist\")\n",
    "#He incluso podemos detectar valores posiblemente anómalos: Grados por encima de 50º"
   ]
  },
  {
   "cell_type": "code",
   "execution_count": 2,
   "metadata": {
    "slideshow": {
     "slide_type": "slide"
    }
   },
   "outputs": [
    {
     "name": "stdout",
     "output_type": "stream",
     "text": [
      "RangeIndex(start=0, stop=2801, step=1)\n",
      "DatetimeIndex(['2015-11-28', '2015-11-29', '2012-06-19', '2015-11-20',\n",
      "               '2015-11-21', '2015-11-22', '2015-11-23', '2015-11-24',\n",
      "               '2015-11-25', '2015-11-26',\n",
      "               ...\n",
      "               '2009-01-16', '2009-01-15', '2009-01-18', '2009-08-07',\n",
      "               '2010-07-13', '2006-10-08', '2016-04-08', '2007-10-26',\n",
      "               '2009-09-13', '2011-10-18'],\n",
      "              dtype='datetime64[ns]', name='idDate', length=2801, freq=None)\n"
     ]
    }
   ],
   "source": [
    "print (df.index)\n",
    "df.index = DatetimeIndex(df[\"idDate\"])\n",
    "print (df.index)"
   ]
  },
  {
   "cell_type": "code",
   "execution_count": 8,
   "metadata": {
    "slideshow": {
     "slide_type": "slide"
    }
   },
   "outputs": [
    {
     "name": "stdout",
     "output_type": "stream",
     "text": [
      "            Unnamed: 0      idDate  wind  temperature_mean\n",
      "2015-11-28           0  2015/11/28   4.0              12.0\n",
      "2015-11-29           1  2015/11/29   3.0              12.0\n",
      "2015-11-20           3  2015/11/20   6.0              14.0\n",
      "2015-11-21           4  2015/11/21  22.0              15.0\n",
      "2015-11-22           5  2015/11/22   7.0              10.0\n",
      "2015-11-23           6  2015/11/23  12.0               8.0\n",
      "2015-11-24           7  2015/11/24   6.0               8.0\n",
      "2015-11-25           8  2015/11/25   8.0               9.0\n",
      "2015-11-26           9  2015/11/26  18.0              14.0\n",
      "2015-11-27          10  2015/11/27  17.0              12.0\n",
      "2015-10-09          33  2015/10/09   6.0              19.0\n",
      "2015-10-08          34  2015/10/08   7.0              18.0\n",
      "2015-10-05          35  2015/10/05  11.0              24.0\n",
      "2015-10-04          36  2015/10/04   6.0              20.0\n",
      "2015-10-07          37  2015/10/07   7.0              21.0\n",
      "2015-10-06          38  2015/10/06  15.0              24.0\n",
      "2015-10-01          39  2015/10/01   8.0              20.0\n",
      "2015-10-03          40  2015/10/03   5.0              21.0\n",
      "2015-10-02          41  2015/10/02   6.0              19.0\n",
      "2015-06-25         152  2015/06/25   8.0              24.0\n",
      "2015-06-26         153  2015/06/26   8.0              22.0\n",
      "2015-06-20         155  2015/06/20   9.0              22.0\n",
      "2015-06-21         157  2015/06/21   7.0              22.0\n",
      "2015-06-22         160  2015/06/22   6.0              22.0\n",
      "2015-06-23         163  2015/06/23   7.0              24.0\n",
      "2015-11-30         194  2015/11/30   4.0              10.0\n",
      "2015-10-30         207  2015/10/30   5.0              17.0\n",
      "2015-10-31         208  2015/10/31   5.0              16.0\n",
      "2015-10-27         394  2015/10/27   4.0              18.0\n",
      "2015-10-26         395  2015/10/26   4.0              18.0\n",
      "...                ...         ...   ...               ...\n",
      "2015-12-03        2543  2015/12/03   3.0              12.0\n",
      "2015-12-02        2544  2015/12/02   1.0              10.0\n",
      "2015-12-01        2545  2015/12/01   2.0              10.0\n",
      "2015-12-07        2546  2015/12/07   3.0              12.0\n",
      "2015-12-06        2547  2015/12/06   3.0              14.0\n",
      "2015-12-05        2548  2015/12/05   2.0              12.0\n",
      "2015-12-04        2549  2015/12/04   3.0              12.0\n",
      "2015-07-28        2553  2015/07/28   9.0              29.0\n",
      "2015-08-06        2594  2015/08/06   6.0              28.0\n",
      "2015-08-07        2595  2015/08/07   6.0              28.0\n",
      "2015-08-01        2596  2015/08/01  18.0              28.0\n",
      "2015-08-02        2597  2015/08/02  13.0              26.0\n",
      "2015-08-03        2598  2015/08/03   7.0              26.0\n",
      "2015-08-08        2599  2015/08/08   8.0              28.0\n",
      "2015-08-09        2600  2015/08/09   9.0              26.0\n",
      "2015-04-02        2611  2015/04/02  10.0              14.0\n",
      "2015-03-25        2644  2015/03/25   9.0              10.0\n",
      "2015-03-24        2645  2015/03/24  14.0              16.0\n",
      "2015-03-20        2646  2015/03/20  27.0              14.0\n",
      "2015-08-18        2728  2015/08/18  12.0              24.0\n",
      "2015-08-13        2731  2015/08/13   8.0              26.0\n",
      "2015-08-12        2732  2015/08/12   7.0              26.0\n",
      "2015-08-11        2733  2015/08/11   8.0              24.0\n",
      "2015-08-10        2734  2015/08/10   7.0              26.0\n",
      "2015-08-17        2735  2015/08/17   4.0              23.0\n",
      "2015-08-16        2736  2015/08/16   6.0              22.0\n",
      "2015-08-15        2737  2015/08/15   6.0              21.0\n",
      "2015-08-14        2738  2015/08/14  10.0              27.0\n",
      "2015-10-18        2770  2015/10/18   4.0              19.0\n",
      "2015-10-13        2777  2015/10/13   6.0              19.0\n",
      "\n",
      "[365 rows x 4 columns]\n"
     ]
    }
   ],
   "source": [
    "#La selección de datos(filas) se SIMPLIFICA enormemente\n",
    "print (df[\"2015\"]) #seleccionamos años #**"
   ]
  },
  {
   "cell_type": "code",
   "execution_count": 18,
   "metadata": {
    "slideshow": {
     "slide_type": "slide"
    }
   },
   "outputs": [
    {
     "name": "stdout",
     "output_type": "stream",
     "text": [
      "        Unnamed: 0       wind  temperature_mean\n",
      "count    31.000000  31.000000         31.000000\n",
      "mean    850.903226   6.516129          9.290323\n",
      "std     202.153301   5.926612          1.716460\n",
      "min     460.000000   1.000000          6.000000\n",
      "25%     676.500000   3.000000          8.000000\n",
      "50%     908.000000   5.000000          9.000000\n",
      "75%     915.500000   7.000000         10.000000\n",
      "max    1165.000000  27.000000         14.000000\n",
      "--------------------------------------------------\n",
      "count    64.000000\n",
      "mean      8.406250\n",
      "std       4.370604\n",
      "min       3.000000\n",
      "25%       5.750000\n",
      "50%       7.000000\n",
      "75%      10.000000\n",
      "max      23.000000\n",
      "Name: wind, dtype: float64\n"
     ]
    }
   ],
   "source": [
    "print (df[\"01/2015\"].describe())\n",
    "print (\"-\"*50)\n",
    "print (df[\"01/2006\":\"01/2007\"].wind.describe())"
   ]
  },
  {
   "cell_type": "code",
   "execution_count": 9,
   "metadata": {
    "slideshow": {
     "slide_type": "slide"
    }
   },
   "outputs": [
    {
     "name": "stdout",
     "output_type": "stream",
     "text": [
      "Viento medio en 2015 sobre Mallorca: 7.586301\n",
      "Viento medio en 2014 sobre Mallorca: 8.123288\n"
     ]
    }
   ],
   "source": [
    "#Por tanto, se simplifica las operaciones útiles sobre los datos\n",
    "print (\"Viento medio en 2015 sobre Mallorca: %f\" %df[\"2015\"].wind.mean())\n",
    "print (\"Viento medio en 2014 sobre Mallorca: %f\" %df[\"2014\"].wind.mean())"
   ]
  },
  {
   "cell_type": "code",
   "execution_count": null,
   "metadata": {
    "collapsed": true,
    "slideshow": {
     "slide_type": "slide"
    }
   },
   "outputs": [],
   "source": [
    "### Podemos hacer análisis más eficaces"
   ]
  },
  {
   "cell_type": "code",
   "execution_count": 8,
   "metadata": {},
   "outputs": [
    {
     "name": "stdout",
     "output_type": "stream",
     "text": [
      "2016\n",
      "2005\n"
     ]
    }
   ],
   "source": [
    "yearMax = df.index.max().year\n",
    "print (yearMax)\n",
    "yearMin = df.index.min().year\n",
    "print (yearMin)"
   ]
  },
  {
   "cell_type": "code",
   "execution_count": 17,
   "metadata": {
    "slideshow": {
     "slide_type": "fragment"
    }
   },
   "outputs": [
    {
     "name": "stdout",
     "output_type": "stream",
     "text": [
      "[2005 2006 2007 2008 2009 2010 2011 2012 2013 2014 2015]\n"
     ]
    }
   ],
   "source": [
    "import numpy as np\n",
    "print np.arange(yearMin,yearMax)"
   ]
  },
  {
   "cell_type": "code",
   "execution_count": 19,
   "metadata": {
    "slideshow": {
     "slide_type": "slide"
    }
   },
   "outputs": [
    {
     "name": "stdout",
     "output_type": "stream",
     "text": [
      "Viento medio en 2005 sobre Mallorca: 8.666667\n",
      "Viento medio en 2006 sobre Mallorca: 8.400000\n",
      "Viento medio en 2007 sobre Mallorca: 9.078652\n",
      "Viento medio en 2008 sobre Mallorca: 8.859756\n",
      "Viento medio en 2009 sobre Mallorca: 7.941634\n",
      "Viento medio en 2010 sobre Mallorca: 7.611842\n",
      "Viento medio en 2011 sobre Mallorca: 7.471429\n",
      "Viento medio en 2012 sobre Mallorca: 7.980822\n",
      "Viento medio en 2013 sobre Mallorca: 8.726027\n",
      "Viento medio en 2014 sobre Mallorca: 8.123288\n",
      "Viento medio en 2015 sobre Mallorca: 7.586301\n"
     ]
    }
   ],
   "source": [
    "for year in np.arange(yearMin,yearMax):\n",
    "    print (\"Viento medio en %i sobre Mallorca: %f\" %(year,df[str(year)].wind.mean()))"
   ]
  },
  {
   "cell_type": "code",
   "execution_count": 22,
   "metadata": {
    "slideshow": {
     "slide_type": "slide"
    }
   },
   "outputs": [
    {
     "data": {
      "text/plain": [
       "2005    8.666667\n",
       "2006    8.400000\n",
       "2007    9.078652\n",
       "2008    8.859756\n",
       "2009    7.941634\n",
       "2010    7.611842\n",
       "2011    7.471429\n",
       "2012    7.980822\n",
       "2013    8.726027\n",
       "2014    8.123288\n",
       "2015    7.586301\n",
       "2016    9.831933\n",
       "Name: wind, dtype: float64"
      ]
     },
     "execution_count": 22,
     "metadata": {},
     "output_type": "execute_result"
    }
   ],
   "source": [
    "#Y podemos seguir aplicando conceptos como la agrupación para hacerlo más eficiente\n",
    "df.groupby(df.index.year).mean()[\"wind\"] #**"
   ]
  },
  {
   "cell_type": "code",
   "execution_count": 31,
   "metadata": {},
   "outputs": [
    {
     "data": {
      "text/plain": [
       "<matplotlib.axes._subplots.AxesSubplot at 0x11bd47bd0>"
      ]
     },
     "execution_count": 31,
     "metadata": {},
     "output_type": "execute_result"
    },
    {
     "data": {
      "image/png": "[encoded data removed]",
      "text/plain": [
       "<matplotlib.figure.Figure at 0x11bb29790>"
      ]
     },
     "metadata": {},
     "output_type": "display_data"
    }
   ],
   "source": [
    "df.groupby(df.index.year).mean()[\"wind\"].plot(kind=\"bar\")"
   ]
  },
  {
   "cell_type": "code",
   "execution_count": 36,
   "metadata": {
    "slideshow": {
     "slide_type": "slide"
    }
   },
   "outputs": [
    {
     "data": {
      "text/plain": [
       "False"
      ]
     },
     "execution_count": 36,
     "metadata": {},
     "output_type": "execute_result"
    }
   ],
   "source": [
    "df[\"2015\"].mean()[\"wind\"]>df[\"2012\"].mean()[\"wind\"]"
   ]
  },
  {
   "cell_type": "markdown",
   "metadata": {
    "slideshow": {
     "slide_type": "slide"
    }
   },
   "source": [
    "## Pero ¿cómo se gestiona el tiempo y qué funciones están implementadas sobre Pandas?"
   ]
  },
  {
   "cell_type": "code",
   "execution_count": 32,
   "metadata": {},
   "outputs": [
    {
     "name": "stdout",
     "output_type": "stream",
     "text": [
      "DatetimeIndex(['2015-11-28', '2015-11-29', '2012-06-19', '2015-11-20',\n",
      "               '2015-11-21', '2015-11-22', '2015-11-23', '2015-11-24',\n",
      "               '2015-11-25', '2015-11-26'],\n",
      "              dtype='datetime64[ns]', freq=None)\n"
     ]
    }
   ],
   "source": [
    "print df.index[:10]"
   ]
  },
  {
   "cell_type": "markdown",
   "metadata": {
    "slideshow": {
     "slide_type": "fragment"
    }
   },
   "source": [
    "### Para comprender, la potencia de las fechas, crearemos series temporales más simples"
   ]
  },
  {
   "cell_type": "code",
   "execution_count": 20,
   "metadata": {},
   "outputs": [
    {
     "name": "stdout",
     "output_type": "stream",
     "text": [
      "DatetimeIndex(['2000-01-31', '2000-02-29', '2000-03-31', '2000-04-30',\n",
      "               '2000-05-31', '2000-06-30', '2000-07-31', '2000-08-31',\n",
      "               '2000-09-30', '2000-10-31',\n",
      "               ...\n",
      "               '2082-07-31', '2082-08-31', '2082-09-30', '2082-10-31',\n",
      "               '2082-11-30', '2082-12-31', '2083-01-31', '2083-02-28',\n",
      "               '2083-03-31', '2083-04-30'],\n",
      "              dtype='datetime64[ns]', length=1000, freq='M')\n"
     ]
    }
   ],
   "source": [
    "index = pd.date_range('2000-1-1', periods=1000, freq='M')\n",
    "print index"
   ]
  },
  {
   "cell_type": "markdown",
   "metadata": {
    "slideshow": {
     "slide_type": "slide"
    }
   },
   "source": [
    "### La frecuencia es muy práctica para definir el periodo de tiempo \n",
    "## Tipos de frecuencia\n",
    "\n",
    "- B       business day frequency\n",
    "- C       custom business day frequency (experimental)\n",
    "- D       calendar day frequency\n",
    "- W       weekly frequency\n",
    "- M       month end frequency\n",
    "- BM      business month end frequency\n",
    "- CBM     custom business month end frequency\n",
    "- MS      month start frequency\n",
    "- BMS     business month start frequency\n",
    "- CBMS    custom business month start frequency\n",
    "- Q       quarter end frequency\n",
    "- BQ      business quarter endfrequency\n",
    "- QS      quarter start frequency\n",
    "- BQS     business quarter start frequency\n",
    "- A       year end frequency\n",
    "- BA      business year end frequency\n",
    "- AS      year start frequency\n",
    "- BAS     business year start frequency\n",
    "- BH      business hour frequency\n",
    "- H       hourly frequency\n",
    "- T       minutely frequency\n",
    "- S       secondly frequency\n",
    "- L       milliseonds\n",
    "- U       microseconds\n",
    "- N       nanoseconds\n"
   ]
  },
  {
   "cell_type": "code",
   "execution_count": 24,
   "metadata": {
    "slideshow": {
     "slide_type": "slide"
    }
   },
   "outputs": [
    {
     "name": "stdout",
     "output_type": "stream",
     "text": [
      "DatetimeIndex(['2000-01-01', '2000-02-01', '2000-03-01', '2000-04-01',\n",
      "               '2000-05-01', '2000-06-01', '2000-07-01', '2000-08-01',\n",
      "               '2000-09-01', '2000-10-01'],\n",
      "              dtype='datetime64[ns]', freq='MS')\n",
      "DatetimeIndex(['2000-01-31', '2000-02-29', '2000-03-31', '2000-04-28',\n",
      "               '2000-05-31', '2000-06-30', '2000-07-31', '2000-08-31',\n",
      "               '2000-09-29', '2000-10-31'],\n",
      "              dtype='datetime64[ns]', freq='BM')\n"
     ]
    }
   ],
   "source": [
    "index = pd.date_range('2000-1-1', periods=10, freq='MS')\n",
    "print index\n",
    "index = pd.date_range('2000-1-1', periods=10, freq='BM')\n",
    "print index"
   ]
  },
  {
   "cell_type": "markdown",
   "metadata": {
    "slideshow": {
     "slide_type": "slide"
    }
   },
   "source": [
    "#### Con estos datos podemos crear dataframes"
   ]
  },
  {
   "cell_type": "code",
   "execution_count": 30,
   "metadata": {
    "slideshow": {
     "slide_type": "-"
    }
   },
   "outputs": [
    {
     "name": "stdout",
     "output_type": "stream",
     "text": [
      "            temperature\n",
      "2000-01-31           21\n",
      "2000-02-29            4\n",
      "2000-03-31           20\n",
      "2000-04-28            8\n",
      "2000-05-31           10\n",
      "2000-06-30            5\n",
      "2000-07-31           21\n",
      "2000-08-31           28\n",
      "2000-09-29           21\n",
      "2000-10-31           13\n",
      "            temperature\n",
      "2000-01-31           21\n",
      "2000-02-29            4\n",
      "2000-03-31           20\n"
     ]
    }
   ],
   "source": [
    "\n",
    "import numpy as np\n",
    "temperatura_dump = np.random.randint(0,30,size=10)\n",
    "index_dump = pd.date_range('2000-1-1', periods=10, freq='BM')\n",
    "df_dump = pd.DataFrame({\"temperature\":temperatura_dump},index=index_dump)\n",
    "print (df_dump)\n",
    "print (df_dump[\"01/2000\":\"03/2000\"])"
   ]
  },
  {
   "cell_type": "markdown",
   "metadata": {
    "slideshow": {
     "slide_type": "slide"
    }
   },
   "source": [
    "### Las fechas tienen COMPONENTES"
   ]
  },
  {
   "cell_type": "code",
   "execution_count": 36,
   "metadata": {},
   "outputs": [
    {
     "name": "stdout",
     "output_type": "stream",
     "text": [
      "2000-01-31 00:00:00\n",
      "2000\n",
      "31\n",
      "False\n"
     ]
    }
   ],
   "source": [
    "print (df_dump.index[0])\n",
    "print (df_dump.index[0].year)\n",
    "print (df_dump.index[0].day)\n",
    "print (df_dump.index[0].is_quarter_start)"
   ]
  },
  {
   "cell_type": "markdown",
   "metadata": {
    "slideshow": {
     "slide_type": "slide"
    }
   },
   "source": [
    "#### Componentes"
   ]
  },
  {
   "cell_type": "markdown",
   "metadata": {},
   "source": [
    "<img src=\"files/timecomponentes.png\">"
   ]
  },
  {
   "cell_type": "markdown",
   "metadata": {
    "slideshow": {
     "slide_type": "slide"
    }
   },
   "source": [
    "### Sobre las fechas podemos realizar operaciones"
   ]
  },
  {
   "cell_type": "code",
   "execution_count": 10,
   "metadata": {},
   "outputs": [
    {
     "name": "stdout",
     "output_type": "stream",
     "text": [
      "2017-07-17 10:30:00\n",
      "2017-07-18 10:30:00\n",
      "2017-07-17 11:29:00\n"
     ]
    }
   ],
   "source": [
    "from pandas.tseries.offsets import * ##todo esto lo importamos para no escribir toda la carrretilla del paquete \n",
    "dia = pd.datetime(2017,7,17,10,30)\n",
    "print (dia)\n",
    "print (dia + Day())\n",
    "print (dia + Minute(59))"
   ]
  },
  {
   "cell_type": "code",
   "execution_count": 11,
   "metadata": {},
   "outputs": [
    {
     "name": "stdout",
     "output_type": "stream",
     "text": [
      "2017-08-22 10:30:00\n"
     ]
    }
   ],
   "source": [
    "#Los desplazamientos de fechas de una manera más generíca\n",
    "print (dia + DateOffset(months=1, days=5))"
   ]
  },
  {
   "cell_type": "markdown",
   "metadata": {},
   "source": [
    "<img src=\"files/offsets.png\">"
   ]
  },
  {
   "cell_type": "code",
   "execution_count": 57,
   "metadata": {
    "slideshow": {
     "slide_type": "slide"
    }
   },
   "outputs": [
    {
     "name": "stdout",
     "output_type": "stream",
     "text": [
      "DatetimeIndex(['2000-01-01', '2000-02-01', '2000-03-01', '2000-04-01',\n",
      "               '2000-05-01', '2000-06-01', '2000-07-01', '2000-08-01',\n",
      "               '2000-09-01', '2000-10-01'],\n",
      "              dtype='datetime64[ns]', freq='MS')\n",
      "DatetimeIndex(['2000-02-01', '2000-03-01', '2000-04-01', '2000-05-01',\n",
      "               '2000-06-01', '2000-07-01', '2000-08-01', '2000-09-01',\n",
      "               '2000-10-01', '2000-11-01'],\n",
      "              dtype='datetime64[ns]', freq='MS')\n"
     ]
    }
   ],
   "source": [
    "#Lo podemos aplicar a series\n",
    "index = pd.date_range('2000-1-1', periods=10, freq='MS')\n",
    "print (index)\n",
    "print (index+DateOffset(months=1)) \n"
   ]
  },
  {
   "cell_type": "code",
   "execution_count": 68,
   "metadata": {},
   "outputs": [
    {
     "name": "stdout",
     "output_type": "stream",
     "text": [
      "2000-02-01 00:00:00\n",
      "2000-01-28 00:00:00\n"
     ]
    }
   ],
   "source": [
    "print (index[1])\n",
    "print (index[1]-Day(4))"
   ]
  },
  {
   "cell_type": "markdown",
   "metadata": {
    "slideshow": {
     "slide_type": "slide"
    }
   },
   "source": [
    "# Resampling\n",
    "\n",
    "Pandas ofrece la capacidad de \"agrupar\" las muestras en otros periodos de tiempo: resampling"
   ]
  },
  {
   "cell_type": "code",
   "execution_count": 79,
   "metadata": {},
   "outputs": [
    {
     "name": "stdout",
     "output_type": "stream",
     "text": [
      "DatetimeIndex(['2000-01-01 00:00:00', '2000-01-01 00:00:01',\n",
      "               '2000-01-01 00:00:02', '2000-01-01 00:00:03',\n",
      "               '2000-01-01 00:00:04', '2000-01-01 00:00:05',\n",
      "               '2000-01-01 00:00:06', '2000-01-01 00:00:07',\n",
      "               '2000-01-01 00:00:08', '2000-01-01 00:00:09'],\n",
      "              dtype='datetime64[ns]', freq='S')\n"
     ]
    }
   ],
   "source": [
    "index_dump = pd.date_range('2000-1-1', periods=3600, freq='S')\n",
    "print (index_dump[:10])"
   ]
  },
  {
   "cell_type": "code",
   "execution_count": 82,
   "metadata": {},
   "outputs": [
    {
     "name": "stdout",
     "output_type": "stream",
     "text": [
      "2000-01-01 00:00:00    125\n",
      "2000-01-01 00:00:01    129\n",
      "2000-01-01 00:00:02    144\n",
      "2000-01-01 00:00:03    426\n",
      "2000-01-01 00:00:04    127\n",
      "2000-01-01 00:00:05    124\n",
      "2000-01-01 00:00:06    480\n",
      "2000-01-01 00:00:07    215\n",
      "2000-01-01 00:00:08    480\n",
      "2000-01-01 00:00:09    288\n",
      "Freq: S, dtype: int64\n"
     ]
    }
   ],
   "source": [
    "ts = pd.Series(np.random.randint(0, 500, len(index_dump)), index=index_dump)\n",
    "print (ts[:10])"
   ]
  },
  {
   "cell_type": "code",
   "execution_count": 86,
   "metadata": {
    "slideshow": {
     "slide_type": "slide"
    }
   },
   "outputs": [
    {
     "data": {
      "text/plain": [
       "2000-01-01 00:00:00    15199\n",
       "2000-01-01 00:01:00    13853\n",
       "2000-01-01 00:02:00    13817\n",
       "2000-01-01 00:03:00    17474\n",
       "2000-01-01 00:04:00    15700\n",
       "2000-01-01 00:05:00    14131\n",
       "2000-01-01 00:06:00    13557\n",
       "2000-01-01 00:07:00    16168\n",
       "2000-01-01 00:08:00    15324\n",
       "2000-01-01 00:09:00    15232\n",
       "2000-01-01 00:10:00    14576\n",
       "2000-01-01 00:11:00    16131\n",
       "2000-01-01 00:12:00    16063\n",
       "2000-01-01 00:13:00    13779\n",
       "2000-01-01 00:14:00    15630\n",
       "2000-01-01 00:15:00    13102\n",
       "2000-01-01 00:16:00    14055\n",
       "2000-01-01 00:17:00    13004\n",
       "2000-01-01 00:18:00    15889\n",
       "2000-01-01 00:19:00    13712\n",
       "2000-01-01 00:20:00    16175\n",
       "2000-01-01 00:21:00    13806\n",
       "2000-01-01 00:22:00    16260\n",
       "2000-01-01 00:23:00    15667\n",
       "2000-01-01 00:24:00    15972\n",
       "2000-01-01 00:25:00    13928\n",
       "2000-01-01 00:26:00    14980\n",
       "2000-01-01 00:27:00    14452\n",
       "2000-01-01 00:28:00    15508\n",
       "2000-01-01 00:29:00    15903\n",
       "2000-01-01 00:30:00    14470\n",
       "2000-01-01 00:31:00    13742\n",
       "2000-01-01 00:32:00    16775\n",
       "2000-01-01 00:33:00    13857\n",
       "2000-01-01 00:34:00    15160\n",
       "2000-01-01 00:35:00    16691\n",
       "2000-01-01 00:36:00    16399\n",
       "2000-01-01 00:37:00    16040\n",
       "2000-01-01 00:38:00    17752\n",
       "2000-01-01 00:39:00    15559\n",
       "2000-01-01 00:40:00    14703\n",
       "2000-01-01 00:41:00    15205\n",
       "2000-01-01 00:42:00    13996\n",
       "2000-01-01 00:43:00    13905\n",
       "2000-01-01 00:44:00    14066\n",
       "2000-01-01 00:45:00    14324\n",
       "2000-01-01 00:46:00    15227\n",
       "2000-01-01 00:47:00    14657\n",
       "2000-01-01 00:48:00    17321\n",
       "2000-01-01 00:49:00    15473\n",
       "2000-01-01 00:50:00    13137\n",
       "2000-01-01 00:51:00    14915\n",
       "2000-01-01 00:52:00    13980\n",
       "2000-01-01 00:53:00    15288\n",
       "2000-01-01 00:54:00    14841\n",
       "2000-01-01 00:55:00    13396\n",
       "2000-01-01 00:56:00    14184\n",
       "2000-01-01 00:57:00    14794\n",
       "2000-01-01 00:58:00    14338\n",
       "2000-01-01 00:59:00    14963\n",
       "Freq: T, dtype: int64"
      ]
     },
     "execution_count": 86,
     "metadata": {},
     "output_type": "execute_result"
    }
   ],
   "source": [
    "# Agrupamos las anteriores muestras en 1 Minuto !\n",
    "ts.resample('1Min').sum()"
   ]
  },
  {
   "cell_type": "code",
   "execution_count": 88,
   "metadata": {
    "slideshow": {
     "slide_type": "slide"
    }
   },
   "outputs": [
    {
     "data": {
      "text/plain": [
       "2000-01-01 00:00:00    490\n",
       "2000-01-01 00:01:00    496\n",
       "2000-01-01 00:02:00    496\n",
       "2000-01-01 00:03:00    499\n",
       "2000-01-01 00:04:00    497\n",
       "2000-01-01 00:05:00    497\n",
       "2000-01-01 00:06:00    474\n",
       "2000-01-01 00:07:00    499\n",
       "2000-01-01 00:08:00    493\n",
       "2000-01-01 00:09:00    490\n",
       "2000-01-01 00:10:00    491\n",
       "2000-01-01 00:11:00    494\n",
       "2000-01-01 00:12:00    493\n",
       "2000-01-01 00:13:00    496\n",
       "2000-01-01 00:14:00    489\n",
       "2000-01-01 00:15:00    490\n",
       "2000-01-01 00:16:00    470\n",
       "2000-01-01 00:17:00    474\n",
       "2000-01-01 00:18:00    496\n",
       "2000-01-01 00:19:00    487\n",
       "2000-01-01 00:20:00    473\n",
       "2000-01-01 00:21:00    499\n",
       "2000-01-01 00:22:00    482\n",
       "2000-01-01 00:23:00    487\n",
       "2000-01-01 00:24:00    498\n",
       "2000-01-01 00:25:00    492\n",
       "2000-01-01 00:26:00    459\n",
       "2000-01-01 00:27:00    493\n",
       "2000-01-01 00:28:00    494\n",
       "2000-01-01 00:29:00    495\n",
       "2000-01-01 00:30:00    498\n",
       "2000-01-01 00:31:00    492\n",
       "2000-01-01 00:32:00    480\n",
       "2000-01-01 00:33:00    477\n",
       "2000-01-01 00:34:00    476\n",
       "2000-01-01 00:35:00    495\n",
       "2000-01-01 00:36:00    499\n",
       "2000-01-01 00:37:00    496\n",
       "2000-01-01 00:38:00    483\n",
       "2000-01-01 00:39:00    495\n",
       "2000-01-01 00:40:00    476\n",
       "2000-01-01 00:41:00    498\n",
       "2000-01-01 00:42:00    488\n",
       "2000-01-01 00:43:00    497\n",
       "2000-01-01 00:44:00    490\n",
       "2000-01-01 00:45:00    488\n",
       "2000-01-01 00:46:00    489\n",
       "2000-01-01 00:47:00    493\n",
       "2000-01-01 00:48:00    497\n",
       "2000-01-01 00:49:00    489\n",
       "2000-01-01 00:50:00    487\n",
       "2000-01-01 00:51:00    486\n",
       "2000-01-01 00:52:00    486\n",
       "2000-01-01 00:53:00    489\n",
       "2000-01-01 00:54:00    498\n",
       "2000-01-01 00:55:00    435\n",
       "2000-01-01 00:56:00    498\n",
       "2000-01-01 00:57:00    485\n",
       "2000-01-01 00:58:00    451\n",
       "2000-01-01 00:59:00    499\n",
       "Freq: T, dtype: int64"
      ]
     },
     "execution_count": 88,
     "metadata": {},
     "output_type": "execute_result"
    }
   ],
   "source": [
    "ts.resample('1Min').max()"
   ]
  },
  {
   "cell_type": "markdown",
   "metadata": {
    "slideshow": {
     "slide_type": "slide"
    }
   },
   "source": [
    "### El resampling puede realizarse con frequencias no existentes.\n",
    "\n"
   ]
  },
  {
   "cell_type": "code",
   "execution_count": 89,
   "metadata": {},
   "outputs": [
    {
     "name": "stdout",
     "output_type": "stream",
     "text": [
      "2000-01-01 00:00:00     75\n",
      "2000-01-01 00:00:01    237\n",
      "2000-01-01 00:00:02    323\n",
      "2000-01-01 00:00:03    231\n",
      "2000-01-01 00:00:04    483\n",
      "2000-01-01 00:00:05    393\n",
      "2000-01-01 00:00:06    225\n",
      "2000-01-01 00:00:07     59\n",
      "2000-01-01 00:00:08      7\n",
      "2000-01-01 00:00:09    296\n",
      "Freq: S, dtype: int64\n"
     ]
    }
   ],
   "source": [
    "ts = pd.Series(np.random.randint(0, 500, len(index_dump)), index=index_dump)\n",
    "print ts[:10]"
   ]
  },
  {
   "cell_type": "code",
   "execution_count": 93,
   "metadata": {},
   "outputs": [
    {
     "data": {
      "text/plain": [
       "2000-01-01 00:00:00.000     75.0\n",
       "2000-01-01 00:00:00.250      NaN\n",
       "2000-01-01 00:00:00.500      NaN\n",
       "2000-01-01 00:00:00.750      NaN\n",
       "2000-01-01 00:00:01.000    237.0\n",
       "2000-01-01 00:00:01.250      NaN\n",
       "2000-01-01 00:00:01.500      NaN\n",
       "2000-01-01 00:00:01.750      NaN\n",
       "2000-01-01 00:00:02.000    323.0\n",
       "2000-01-01 00:00:02.250      NaN\n",
       "2000-01-01 00:00:02.500      NaN\n",
       "2000-01-01 00:00:02.750      NaN\n",
       "2000-01-01 00:00:03.000    231.0\n",
       "Freq: 250L, dtype: float64"
      ]
     },
     "execution_count": 93,
     "metadata": {},
     "output_type": "execute_result"
    }
   ],
   "source": [
    "ts[:4].resample('250L').asfreq() # 250 Milisegundos   "
   ]
  },
  {
   "cell_type": "markdown",
   "metadata": {},
   "source": [
    "**Nota** La magnitud es el *Tipo de Frecuencia*"
   ]
  },
  {
   "cell_type": "code",
   "execution_count": 92,
   "metadata": {
    "slideshow": {
     "slide_type": "slide"
    }
   },
   "outputs": [
    {
     "data": {
      "text/plain": [
       "2000-01-01 00:00:00.000     75\n",
       "2000-01-01 00:00:00.250     75\n",
       "2000-01-01 00:00:00.500     75\n",
       "2000-01-01 00:00:00.750     75\n",
       "2000-01-01 00:00:01.000    237\n",
       "2000-01-01 00:00:01.250    237\n",
       "2000-01-01 00:00:01.500    237\n",
       "2000-01-01 00:00:01.750    237\n",
       "2000-01-01 00:00:02.000    323\n",
       "2000-01-01 00:00:02.250    323\n",
       "2000-01-01 00:00:02.500    323\n",
       "2000-01-01 00:00:02.750    323\n",
       "2000-01-01 00:00:03.000    231\n",
       "Freq: 250L, dtype: int64"
      ]
     },
     "execution_count": 92,
     "metadata": {},
     "output_type": "execute_result"
    }
   ],
   "source": [
    "ts[:4].resample('250L').ffill()  # Rellena con  el valor existente anterior "
   ]
  },
  {
   "cell_type": "markdown",
   "metadata": {
    "slideshow": {
     "slide_type": "slide"
    }
   },
   "source": [
    "### Lo juntamos todo..."
   ]
  },
  {
   "cell_type": "code",
   "execution_count": 98,
   "metadata": {
    "slideshow": {
     "slide_type": "-"
    }
   },
   "outputs": [
    {
     "data": {
      "text/html": [
       "<div>\n",
       "<table border=\"1\" class=\"dataframe\">\n",
       "  <thead>\n",
       "    <tr style=\"text-align: right;\">\n",
       "      <th></th>\n",
       "      <th>temperature_mean</th>\n",
       "      <th>wind</th>\n",
       "    </tr>\n",
       "  </thead>\n",
       "  <tbody>\n",
       "    <tr>\n",
       "      <th>2005-06-30</th>\n",
       "      <td>25.0</td>\n",
       "      <td>14.000000</td>\n",
       "    </tr>\n",
       "    <tr>\n",
       "      <th>2006-06-30</th>\n",
       "      <td>10.0</td>\n",
       "      <td>7.684211</td>\n",
       "    </tr>\n",
       "    <tr>\n",
       "      <th>2007-06-30</th>\n",
       "      <td>9.0</td>\n",
       "      <td>9.440860</td>\n",
       "    </tr>\n",
       "    <tr>\n",
       "      <th>2008-06-30</th>\n",
       "      <td>6.0</td>\n",
       "      <td>8.105769</td>\n",
       "    </tr>\n",
       "    <tr>\n",
       "      <th>2009-06-30</th>\n",
       "      <td>5.0</td>\n",
       "      <td>8.932127</td>\n",
       "    </tr>\n",
       "    <tr>\n",
       "      <th>2010-06-30</th>\n",
       "      <td>4.0</td>\n",
       "      <td>7.602888</td>\n",
       "    </tr>\n",
       "    <tr>\n",
       "      <th>2011-06-30</th>\n",
       "      <td>4.0</td>\n",
       "      <td>7.453988</td>\n",
       "    </tr>\n",
       "    <tr>\n",
       "      <th>2012-06-30</th>\n",
       "      <td>2.0</td>\n",
       "      <td>7.453039</td>\n",
       "    </tr>\n",
       "    <tr>\n",
       "      <th>2013-06-30</th>\n",
       "      <td>5.0</td>\n",
       "      <td>9.241096</td>\n",
       "    </tr>\n",
       "    <tr>\n",
       "      <th>2014-06-30</th>\n",
       "      <td>5.0</td>\n",
       "      <td>8.221918</td>\n",
       "    </tr>\n",
       "    <tr>\n",
       "      <th>2015-06-30</th>\n",
       "      <td>3.0</td>\n",
       "      <td>7.712329</td>\n",
       "    </tr>\n",
       "    <tr>\n",
       "      <th>2016-06-30</th>\n",
       "      <td>6.0</td>\n",
       "      <td>8.062706</td>\n",
       "    </tr>\n",
       "  </tbody>\n",
       "</table>\n",
       "</div>"
      ],
      "text/plain": [
       "            temperature_mean       wind\n",
       "2005-06-30              25.0  14.000000\n",
       "2006-06-30              10.0   7.684211\n",
       "2007-06-30               9.0   9.440860\n",
       "2008-06-30               6.0   8.105769\n",
       "2009-06-30               5.0   8.932127\n",
       "2010-06-30               4.0   7.602888\n",
       "2011-06-30               4.0   7.453988\n",
       "2012-06-30               2.0   7.453039\n",
       "2013-06-30               5.0   9.241096\n",
       "2014-06-30               5.0   8.221918\n",
       "2015-06-30               3.0   7.712329\n",
       "2016-06-30               6.0   8.062706"
      ]
     },
     "execution_count": 98,
     "metadata": {},
     "output_type": "execute_result"
    }
   ],
   "source": [
    "#Sobre nuestro fichero csv del clima de Mallorca...\n",
    "#ya lo tenemos cargado en df\n",
    "df.resample(\"12M\").agg({\"wind\":np.mean,\"temperature_mean\":np.min})"
   ]
  },
  {
   "cell_type": "code",
   "execution_count": 100,
   "metadata": {
    "slideshow": {
     "slide_type": "slide"
    }
   },
   "outputs": [
    {
     "data": {
      "text/html": [
       "<div>\n",
       "<table border=\"1\" class=\"dataframe\">\n",
       "  <thead>\n",
       "    <tr style=\"text-align: right;\">\n",
       "      <th></th>\n",
       "      <th>mean</th>\n",
       "      <th>amin</th>\n",
       "      <th>amax</th>\n",
       "    </tr>\n",
       "  </thead>\n",
       "  <tbody>\n",
       "    <tr>\n",
       "      <th>2005-06-30</th>\n",
       "      <td>14.000000</td>\n",
       "      <td>14.0</td>\n",
       "      <td>14.0</td>\n",
       "    </tr>\n",
       "    <tr>\n",
       "      <th>2006-06-30</th>\n",
       "      <td>7.684211</td>\n",
       "      <td>4.0</td>\n",
       "      <td>17.0</td>\n",
       "    </tr>\n",
       "    <tr>\n",
       "      <th>2007-06-30</th>\n",
       "      <td>9.440860</td>\n",
       "      <td>3.0</td>\n",
       "      <td>32.0</td>\n",
       "    </tr>\n",
       "    <tr>\n",
       "      <th>2008-06-30</th>\n",
       "      <td>8.105769</td>\n",
       "      <td>3.0</td>\n",
       "      <td>28.0</td>\n",
       "    </tr>\n",
       "    <tr>\n",
       "      <th>2009-06-30</th>\n",
       "      <td>8.932127</td>\n",
       "      <td>3.0</td>\n",
       "      <td>43.0</td>\n",
       "    </tr>\n",
       "    <tr>\n",
       "      <th>2010-06-30</th>\n",
       "      <td>7.602888</td>\n",
       "      <td>1.0</td>\n",
       "      <td>39.0</td>\n",
       "    </tr>\n",
       "    <tr>\n",
       "      <th>2011-06-30</th>\n",
       "      <td>7.453988</td>\n",
       "      <td>1.0</td>\n",
       "      <td>28.0</td>\n",
       "    </tr>\n",
       "    <tr>\n",
       "      <th>2012-06-30</th>\n",
       "      <td>7.453039</td>\n",
       "      <td>0.0</td>\n",
       "      <td>30.0</td>\n",
       "    </tr>\n",
       "    <tr>\n",
       "      <th>2013-06-30</th>\n",
       "      <td>9.241096</td>\n",
       "      <td>2.0</td>\n",
       "      <td>32.0</td>\n",
       "    </tr>\n",
       "    <tr>\n",
       "      <th>2014-06-30</th>\n",
       "      <td>8.221918</td>\n",
       "      <td>1.0</td>\n",
       "      <td>31.0</td>\n",
       "    </tr>\n",
       "    <tr>\n",
       "      <th>2015-06-30</th>\n",
       "      <td>7.712329</td>\n",
       "      <td>1.0</td>\n",
       "      <td>30.0</td>\n",
       "    </tr>\n",
       "    <tr>\n",
       "      <th>2016-06-30</th>\n",
       "      <td>8.062706</td>\n",
       "      <td>1.0</td>\n",
       "      <td>32.0</td>\n",
       "    </tr>\n",
       "  </tbody>\n",
       "</table>\n",
       "</div>"
      ],
      "text/plain": [
       "                 mean  amin  amax\n",
       "2005-06-30  14.000000  14.0  14.0\n",
       "2006-06-30   7.684211   4.0  17.0\n",
       "2007-06-30   9.440860   3.0  32.0\n",
       "2008-06-30   8.105769   3.0  28.0\n",
       "2009-06-30   8.932127   3.0  43.0\n",
       "2010-06-30   7.602888   1.0  39.0\n",
       "2011-06-30   7.453988   1.0  28.0\n",
       "2012-06-30   7.453039   0.0  30.0\n",
       "2013-06-30   9.241096   2.0  32.0\n",
       "2014-06-30   8.221918   1.0  31.0\n",
       "2015-06-30   7.712329   1.0  30.0\n",
       "2016-06-30   8.062706   1.0  32.0"
      ]
     },
     "execution_count": 100,
     "metadata": {},
     "output_type": "execute_result"
    }
   ],
   "source": [
    "#Sobre nuestro fichero csv del clima de Mallorca...\n",
    "df.resample(\"12M\")[\"wind\"].agg([np.mean,np.min,np.max])"
   ]
  },
  {
   "cell_type": "code",
   "execution_count": 106,
   "metadata": {
    "slideshow": {
     "slide_type": "slide"
    }
   },
   "outputs": [
    {
     "data": {
      "text/plain": [
       "<matplotlib.axes._subplots.AxesSubplot at 0x119483d10>"
      ]
     },
     "execution_count": 106,
     "metadata": {},
     "output_type": "execute_result"
    },
    {
     "data": {
      "image/png": "[encoded data removed]",
      "text/plain": [
       "<matplotlib.figure.Figure at 0x1193dae10>"
      ]
     },
     "metadata": {},
     "output_type": "display_data"
    }
   ],
   "source": [
    "df.resample(\"3M\")[\"temperature_mean\"].agg([np.mean]).plot(kind=\"bar\")"
   ]
  },
  {
   "cell_type": "code",
   "execution_count": 107,
   "metadata": {
    "slideshow": {
     "slide_type": "slide"
    }
   },
   "outputs": [
    {
     "data": {
      "text/plain": [
       "<matplotlib.axes._subplots.AxesSubplot at 0x11910ee90>"
      ]
     },
     "execution_count": 107,
     "metadata": {},
     "output_type": "execute_result"
    },
    {
     "data": {
      "image/png": "[encoded data removed]",
      "text/plain": [
       "<matplotlib.figure.Figure at 0x1193af4d0>"
      ]
     },
     "metadata": {},
     "output_type": "display_data"
    }
   ],
   "source": [
    "df[\"2014\":\"2015\"].resample(\"3M\")[\"temperature_mean\"].agg([np.mean]).plot(kind=\"bar\")"
   ]
  },
  {
   "cell_type": "markdown",
   "metadata": {
    "slideshow": {
     "slide_type": "slide"
    }
   },
   "source": [
    "# Ejercicios\n",
    "## Limpia el fichero del \"climaMallora.csv\" de posibles valores anomalos"
   ]
  },
  {
   "cell_type": "code",
   "execution_count": 10,
   "metadata": {},
   "outputs": [
    {
     "data": {
      "text/html": [
       "<div>\n",
       "<style scoped>\n",
       "    .dataframe tbody tr th:only-of-type {\n",
       "        vertical-align: middle;\n",
       "    }\n",
       "\n",
       "    .dataframe tbody tr th {\n",
       "        vertical-align: top;\n",
       "    }\n",
       "\n",
       "    .dataframe thead th {\n",
       "        text-align: right;\n",
       "    }\n",
       "</style>\n",
       "<table border=\"1\" class=\"dataframe\">\n",
       "  <thead>\n",
       "    <tr style=\"text-align: right;\">\n",
       "      <th></th>\n",
       "      <th>Unnamed: 0</th>\n",
       "      <th>idDate</th>\n",
       "      <th>wind</th>\n",
       "      <th>temperature_mean</th>\n",
       "    </tr>\n",
       "    <tr>\n",
       "      <th>idDate</th>\n",
       "      <th></th>\n",
       "      <th></th>\n",
       "      <th></th>\n",
       "      <th></th>\n",
       "    </tr>\n",
       "  </thead>\n",
       "  <tbody>\n",
       "    <tr>\n",
       "      <th>2015-11-28</th>\n",
       "      <td>0</td>\n",
       "      <td>2015/11/28</td>\n",
       "      <td>4.0</td>\n",
       "      <td>12.0</td>\n",
       "    </tr>\n",
       "    <tr>\n",
       "      <th>2015-11-29</th>\n",
       "      <td>1</td>\n",
       "      <td>2015/11/29</td>\n",
       "      <td>3.0</td>\n",
       "      <td>12.0</td>\n",
       "    </tr>\n",
       "    <tr>\n",
       "      <th>2012-06-19</th>\n",
       "      <td>2</td>\n",
       "      <td>2012/06/19</td>\n",
       "      <td>10.0</td>\n",
       "      <td>27.0</td>\n",
       "    </tr>\n",
       "    <tr>\n",
       "      <th>2015-11-20</th>\n",
       "      <td>3</td>\n",
       "      <td>2015/11/20</td>\n",
       "      <td>6.0</td>\n",
       "      <td>14.0</td>\n",
       "    </tr>\n",
       "    <tr>\n",
       "      <th>2015-11-21</th>\n",
       "      <td>4</td>\n",
       "      <td>2015/11/21</td>\n",
       "      <td>22.0</td>\n",
       "      <td>15.0</td>\n",
       "    </tr>\n",
       "    <tr>\n",
       "      <th>2015-11-22</th>\n",
       "      <td>5</td>\n",
       "      <td>2015/11/22</td>\n",
       "      <td>7.0</td>\n",
       "      <td>10.0</td>\n",
       "    </tr>\n",
       "    <tr>\n",
       "      <th>2015-11-23</th>\n",
       "      <td>6</td>\n",
       "      <td>2015/11/23</td>\n",
       "      <td>12.0</td>\n",
       "      <td>8.0</td>\n",
       "    </tr>\n",
       "    <tr>\n",
       "      <th>2015-11-24</th>\n",
       "      <td>7</td>\n",
       "      <td>2015/11/24</td>\n",
       "      <td>6.0</td>\n",
       "      <td>8.0</td>\n",
       "    </tr>\n",
       "    <tr>\n",
       "      <th>2015-11-25</th>\n",
       "      <td>8</td>\n",
       "      <td>2015/11/25</td>\n",
       "      <td>8.0</td>\n",
       "      <td>9.0</td>\n",
       "    </tr>\n",
       "    <tr>\n",
       "      <th>2015-11-26</th>\n",
       "      <td>9</td>\n",
       "      <td>2015/11/26</td>\n",
       "      <td>18.0</td>\n",
       "      <td>14.0</td>\n",
       "    </tr>\n",
       "    <tr>\n",
       "      <th>2015-11-27</th>\n",
       "      <td>10</td>\n",
       "      <td>2015/11/27</td>\n",
       "      <td>17.0</td>\n",
       "      <td>12.0</td>\n",
       "    </tr>\n",
       "    <tr>\n",
       "      <th>2013-10-25</th>\n",
       "      <td>11</td>\n",
       "      <td>2013/10/25</td>\n",
       "      <td>8.0</td>\n",
       "      <td>22.0</td>\n",
       "    </tr>\n",
       "    <tr>\n",
       "      <th>2013-10-24</th>\n",
       "      <td>12</td>\n",
       "      <td>2013/10/24</td>\n",
       "      <td>4.0</td>\n",
       "      <td>20.0</td>\n",
       "    </tr>\n",
       "    <tr>\n",
       "      <th>2013-10-27</th>\n",
       "      <td>13</td>\n",
       "      <td>2013/10/27</td>\n",
       "      <td>4.0</td>\n",
       "      <td>22.0</td>\n",
       "    </tr>\n",
       "    <tr>\n",
       "      <th>2013-10-26</th>\n",
       "      <td>14</td>\n",
       "      <td>2013/10/26</td>\n",
       "      <td>11.0</td>\n",
       "      <td>25.0</td>\n",
       "    </tr>\n",
       "    <tr>\n",
       "      <th>2013-10-21</th>\n",
       "      <td>15</td>\n",
       "      <td>2013/10/21</td>\n",
       "      <td>4.0</td>\n",
       "      <td>20.0</td>\n",
       "    </tr>\n",
       "    <tr>\n",
       "      <th>2013-10-20</th>\n",
       "      <td>16</td>\n",
       "      <td>2013/10/20</td>\n",
       "      <td>3.0</td>\n",
       "      <td>21.0</td>\n",
       "    </tr>\n",
       "    <tr>\n",
       "      <th>2013-10-23</th>\n",
       "      <td>17</td>\n",
       "      <td>2013/10/23</td>\n",
       "      <td>8.0</td>\n",
       "      <td>22.0</td>\n",
       "    </tr>\n",
       "    <tr>\n",
       "      <th>2013-10-22</th>\n",
       "      <td>18</td>\n",
       "      <td>2013/10/22</td>\n",
       "      <td>6.0</td>\n",
       "      <td>20.0</td>\n",
       "    </tr>\n",
       "    <tr>\n",
       "      <th>2007-05-19</th>\n",
       "      <td>19</td>\n",
       "      <td>2007/05/19</td>\n",
       "      <td>7.0</td>\n",
       "      <td>20.0</td>\n",
       "    </tr>\n",
       "    <tr>\n",
       "      <th>2013-10-29</th>\n",
       "      <td>20</td>\n",
       "      <td>2013/10/29</td>\n",
       "      <td>14.0</td>\n",
       "      <td>18.0</td>\n",
       "    </tr>\n",
       "    <tr>\n",
       "      <th>2013-10-28</th>\n",
       "      <td>21</td>\n",
       "      <td>2013/10/28</td>\n",
       "      <td>3.0</td>\n",
       "      <td>20.0</td>\n",
       "    </tr>\n",
       "    <tr>\n",
       "      <th>2012-10-29</th>\n",
       "      <td>23</td>\n",
       "      <td>2012/10/29</td>\n",
       "      <td>4.0</td>\n",
       "      <td>10.0</td>\n",
       "    </tr>\n",
       "    <tr>\n",
       "      <th>2011-06-17</th>\n",
       "      <td>24</td>\n",
       "      <td>2011/06/17</td>\n",
       "      <td>6.0</td>\n",
       "      <td>24.0</td>\n",
       "    </tr>\n",
       "    <tr>\n",
       "      <th>2012-10-20</th>\n",
       "      <td>25</td>\n",
       "      <td>2012/10/20</td>\n",
       "      <td>11.0</td>\n",
       "      <td>24.0</td>\n",
       "    </tr>\n",
       "    <tr>\n",
       "      <th>2012-10-21</th>\n",
       "      <td>26</td>\n",
       "      <td>2012/10/21</td>\n",
       "      <td>14.0</td>\n",
       "      <td>19.0</td>\n",
       "    </tr>\n",
       "    <tr>\n",
       "      <th>2012-10-22</th>\n",
       "      <td>27</td>\n",
       "      <td>2012/10/22</td>\n",
       "      <td>17.0</td>\n",
       "      <td>19.0</td>\n",
       "    </tr>\n",
       "    <tr>\n",
       "      <th>2012-10-23</th>\n",
       "      <td>28</td>\n",
       "      <td>2012/10/23</td>\n",
       "      <td>4.0</td>\n",
       "      <td>18.0</td>\n",
       "    </tr>\n",
       "    <tr>\n",
       "      <th>2012-10-24</th>\n",
       "      <td>29</td>\n",
       "      <td>2012/10/24</td>\n",
       "      <td>4.0</td>\n",
       "      <td>18.0</td>\n",
       "    </tr>\n",
       "    <tr>\n",
       "      <th>2012-10-25</th>\n",
       "      <td>30</td>\n",
       "      <td>2012/10/25</td>\n",
       "      <td>5.0</td>\n",
       "      <td>18.0</td>\n",
       "    </tr>\n",
       "    <tr>\n",
       "      <th>...</th>\n",
       "      <td>...</td>\n",
       "      <td>...</td>\n",
       "      <td>...</td>\n",
       "      <td>...</td>\n",
       "    </tr>\n",
       "    <tr>\n",
       "      <th>2009-09-24</th>\n",
       "      <td>2771</td>\n",
       "      <td>2009/09/24</td>\n",
       "      <td>5.0</td>\n",
       "      <td>21.0</td>\n",
       "    </tr>\n",
       "    <tr>\n",
       "      <th>2009-07-18</th>\n",
       "      <td>2772</td>\n",
       "      <td>2009/07/18</td>\n",
       "      <td>10.0</td>\n",
       "      <td>23.0</td>\n",
       "    </tr>\n",
       "    <tr>\n",
       "      <th>2012-10-19</th>\n",
       "      <td>2773</td>\n",
       "      <td>2012/10/19</td>\n",
       "      <td>10.0</td>\n",
       "      <td>24.0</td>\n",
       "    </tr>\n",
       "    <tr>\n",
       "      <th>2009-07-12</th>\n",
       "      <td>2774</td>\n",
       "      <td>2009/07/12</td>\n",
       "      <td>6.0</td>\n",
       "      <td>25.0</td>\n",
       "    </tr>\n",
       "    <tr>\n",
       "      <th>2009-07-14</th>\n",
       "      <td>2775</td>\n",
       "      <td>2009/07/14</td>\n",
       "      <td>10.0</td>\n",
       "      <td>27.0</td>\n",
       "    </tr>\n",
       "    <tr>\n",
       "      <th>2009-07-17</th>\n",
       "      <td>2776</td>\n",
       "      <td>2009/07/17</td>\n",
       "      <td>12.0</td>\n",
       "      <td>28.0</td>\n",
       "    </tr>\n",
       "    <tr>\n",
       "      <th>2015-10-13</th>\n",
       "      <td>2777</td>\n",
       "      <td>2015/10/13</td>\n",
       "      <td>6.0</td>\n",
       "      <td>19.0</td>\n",
       "    </tr>\n",
       "    <tr>\n",
       "      <th>2008-05-05</th>\n",
       "      <td>2778</td>\n",
       "      <td>2008/05/05</td>\n",
       "      <td>7.0</td>\n",
       "      <td>16.0</td>\n",
       "    </tr>\n",
       "    <tr>\n",
       "      <th>2009-09-25</th>\n",
       "      <td>2779</td>\n",
       "      <td>2009/09/25</td>\n",
       "      <td>4.0</td>\n",
       "      <td>20.0</td>\n",
       "    </tr>\n",
       "    <tr>\n",
       "      <th>2008-05-06</th>\n",
       "      <td>2780</td>\n",
       "      <td>2008/05/06</td>\n",
       "      <td>8.0</td>\n",
       "      <td>18.0</td>\n",
       "    </tr>\n",
       "    <tr>\n",
       "      <th>2008-05-01</th>\n",
       "      <td>2781</td>\n",
       "      <td>2008/05/01</td>\n",
       "      <td>10.0</td>\n",
       "      <td>16.0</td>\n",
       "    </tr>\n",
       "    <tr>\n",
       "      <th>2009-08-06</th>\n",
       "      <td>2782</td>\n",
       "      <td>2009/08/06</td>\n",
       "      <td>7.0</td>\n",
       "      <td>24.0</td>\n",
       "    </tr>\n",
       "    <tr>\n",
       "      <th>2008-05-03</th>\n",
       "      <td>2783</td>\n",
       "      <td>2008/05/03</td>\n",
       "      <td>10.0</td>\n",
       "      <td>19.0</td>\n",
       "    </tr>\n",
       "    <tr>\n",
       "      <th>2009-08-09</th>\n",
       "      <td>2784</td>\n",
       "      <td>2009/08/09</td>\n",
       "      <td>7.0</td>\n",
       "      <td>25.0</td>\n",
       "    </tr>\n",
       "    <tr>\n",
       "      <th>2009-08-08</th>\n",
       "      <td>2785</td>\n",
       "      <td>2009/08/08</td>\n",
       "      <td>9.0</td>\n",
       "      <td>26.0</td>\n",
       "    </tr>\n",
       "    <tr>\n",
       "      <th>2007-03-09</th>\n",
       "      <td>2786</td>\n",
       "      <td>2007/03/09</td>\n",
       "      <td>10.0</td>\n",
       "      <td>13.0</td>\n",
       "    </tr>\n",
       "    <tr>\n",
       "      <th>2009-01-12</th>\n",
       "      <td>2787</td>\n",
       "      <td>2009/01/12</td>\n",
       "      <td>5.0</td>\n",
       "      <td>8.0</td>\n",
       "    </tr>\n",
       "    <tr>\n",
       "      <th>2009-01-11</th>\n",
       "      <td>2788</td>\n",
       "      <td>2009/01/11</td>\n",
       "      <td>9.0</td>\n",
       "      <td>8.0</td>\n",
       "    </tr>\n",
       "    <tr>\n",
       "      <th>2009-01-10</th>\n",
       "      <td>2789</td>\n",
       "      <td>2009/01/10</td>\n",
       "      <td>5.0</td>\n",
       "      <td>8.0</td>\n",
       "    </tr>\n",
       "    <tr>\n",
       "      <th>2009-01-17</th>\n",
       "      <td>2790</td>\n",
       "      <td>2009/01/17</td>\n",
       "      <td>4.0</td>\n",
       "      <td>10.0</td>\n",
       "    </tr>\n",
       "    <tr>\n",
       "      <th>2009-01-16</th>\n",
       "      <td>2791</td>\n",
       "      <td>2009/01/16</td>\n",
       "      <td>6.0</td>\n",
       "      <td>9.0</td>\n",
       "    </tr>\n",
       "    <tr>\n",
       "      <th>2009-01-15</th>\n",
       "      <td>2792</td>\n",
       "      <td>2009/01/15</td>\n",
       "      <td>9.0</td>\n",
       "      <td>8.0</td>\n",
       "    </tr>\n",
       "    <tr>\n",
       "      <th>2009-01-18</th>\n",
       "      <td>2793</td>\n",
       "      <td>2009/01/18</td>\n",
       "      <td>8.0</td>\n",
       "      <td>8.0</td>\n",
       "    </tr>\n",
       "    <tr>\n",
       "      <th>2009-08-07</th>\n",
       "      <td>2794</td>\n",
       "      <td>2009/08/07</td>\n",
       "      <td>8.0</td>\n",
       "      <td>25.0</td>\n",
       "    </tr>\n",
       "    <tr>\n",
       "      <th>2010-07-13</th>\n",
       "      <td>2795</td>\n",
       "      <td>2010/07/13</td>\n",
       "      <td>6.0</td>\n",
       "      <td>24.0</td>\n",
       "    </tr>\n",
       "    <tr>\n",
       "      <th>2006-10-08</th>\n",
       "      <td>2796</td>\n",
       "      <td>2006/10/08</td>\n",
       "      <td>6.0</td>\n",
       "      <td>22.0</td>\n",
       "    </tr>\n",
       "    <tr>\n",
       "      <th>2016-04-08</th>\n",
       "      <td>2797</td>\n",
       "      <td>2016/04/08</td>\n",
       "      <td>6.0</td>\n",
       "      <td>10.0</td>\n",
       "    </tr>\n",
       "    <tr>\n",
       "      <th>2007-10-26</th>\n",
       "      <td>2798</td>\n",
       "      <td>2007/10/26</td>\n",
       "      <td>5.0</td>\n",
       "      <td>15.0</td>\n",
       "    </tr>\n",
       "    <tr>\n",
       "      <th>2009-09-13</th>\n",
       "      <td>2799</td>\n",
       "      <td>2009/09/13</td>\n",
       "      <td>6.0</td>\n",
       "      <td>22.0</td>\n",
       "    </tr>\n",
       "    <tr>\n",
       "      <th>2011-10-18</th>\n",
       "      <td>2800</td>\n",
       "      <td>2011/10/18</td>\n",
       "      <td>4.0</td>\n",
       "      <td>18.0</td>\n",
       "    </tr>\n",
       "  </tbody>\n",
       "</table>\n",
       "<p>2768 rows × 4 columns</p>\n",
       "</div>"
      ],
      "text/plain": [
       "            Unnamed: 0      idDate  wind  temperature_mean\n",
       "idDate                                                    \n",
       "2015-11-28           0  2015/11/28   4.0              12.0\n",
       "2015-11-29           1  2015/11/29   3.0              12.0\n",
       "2012-06-19           2  2012/06/19  10.0              27.0\n",
       "2015-11-20           3  2015/11/20   6.0              14.0\n",
       "2015-11-21           4  2015/11/21  22.0              15.0\n",
       "2015-11-22           5  2015/11/22   7.0              10.0\n",
       "2015-11-23           6  2015/11/23  12.0               8.0\n",
       "2015-11-24           7  2015/11/24   6.0               8.0\n",
       "2015-11-25           8  2015/11/25   8.0               9.0\n",
       "2015-11-26           9  2015/11/26  18.0              14.0\n",
       "2015-11-27          10  2015/11/27  17.0              12.0\n",
       "2013-10-25          11  2013/10/25   8.0              22.0\n",
       "2013-10-24          12  2013/10/24   4.0              20.0\n",
       "2013-10-27          13  2013/10/27   4.0              22.0\n",
       "2013-10-26          14  2013/10/26  11.0              25.0\n",
       "2013-10-21          15  2013/10/21   4.0              20.0\n",
       "2013-10-20          16  2013/10/20   3.0              21.0\n",
       "2013-10-23          17  2013/10/23   8.0              22.0\n",
       "2013-10-22          18  2013/10/22   6.0              20.0\n",
       "2007-05-19          19  2007/05/19   7.0              20.0\n",
       "2013-10-29          20  2013/10/29  14.0              18.0\n",
       "2013-10-28          21  2013/10/28   3.0              20.0\n",
       "2012-10-29          23  2012/10/29   4.0              10.0\n",
       "2011-06-17          24  2011/06/17   6.0              24.0\n",
       "2012-10-20          25  2012/10/20  11.0              24.0\n",
       "2012-10-21          26  2012/10/21  14.0              19.0\n",
       "2012-10-22          27  2012/10/22  17.0              19.0\n",
       "2012-10-23          28  2012/10/23   4.0              18.0\n",
       "2012-10-24          29  2012/10/24   4.0              18.0\n",
       "2012-10-25          30  2012/10/25   5.0              18.0\n",
       "...                ...         ...   ...               ...\n",
       "2009-09-24        2771  2009/09/24   5.0              21.0\n",
       "2009-07-18        2772  2009/07/18  10.0              23.0\n",
       "2012-10-19        2773  2012/10/19  10.0              24.0\n",
       "2009-07-12        2774  2009/07/12   6.0              25.0\n",
       "2009-07-14        2775  2009/07/14  10.0              27.0\n",
       "2009-07-17        2776  2009/07/17  12.0              28.0\n",
       "2015-10-13        2777  2015/10/13   6.0              19.0\n",
       "2008-05-05        2778  2008/05/05   7.0              16.0\n",
       "2009-09-25        2779  2009/09/25   4.0              20.0\n",
       "2008-05-06        2780  2008/05/06   8.0              18.0\n",
       "2008-05-01        2781  2008/05/01  10.0              16.0\n",
       "2009-08-06        2782  2009/08/06   7.0              24.0\n",
       "2008-05-03        2783  2008/05/03  10.0              19.0\n",
       "2009-08-09        2784  2009/08/09   7.0              25.0\n",
       "2009-08-08        2785  2009/08/08   9.0              26.0\n",
       "2007-03-09        2786  2007/03/09  10.0              13.0\n",
       "2009-01-12        2787  2009/01/12   5.0               8.0\n",
       "2009-01-11        2788  2009/01/11   9.0               8.0\n",
       "2009-01-10        2789  2009/01/10   5.0               8.0\n",
       "2009-01-17        2790  2009/01/17   4.0              10.0\n",
       "2009-01-16        2791  2009/01/16   6.0               9.0\n",
       "2009-01-15        2792  2009/01/15   9.0               8.0\n",
       "2009-01-18        2793  2009/01/18   8.0               8.0\n",
       "2009-08-07        2794  2009/08/07   8.0              25.0\n",
       "2010-07-13        2795  2010/07/13   6.0              24.0\n",
       "2006-10-08        2796  2006/10/08   6.0              22.0\n",
       "2016-04-08        2797  2016/04/08   6.0              10.0\n",
       "2007-10-26        2798  2007/10/26   5.0              15.0\n",
       "2009-09-13        2799  2009/09/13   6.0              22.0\n",
       "2011-10-18        2800  2011/10/18   4.0              18.0\n",
       "\n",
       "[2768 rows x 4 columns]"
      ]
     },
     "execution_count": 10,
     "metadata": {},
     "output_type": "execute_result"
    }
   ],
   "source": [
    "df = df[df.temperature_mean < 40]\n",
    "df"
   ]
  },
  {
   "cell_type": "markdown",
   "metadata": {},
   "source": [
    "### 1 Crea una serie de tiempo, donde estén representados el primer día de cada mes, durante 2 años.\n"
   ]
  },
  {
   "cell_type": "code",
   "execution_count": 5,
   "metadata": {},
   "outputs": [
    {
     "data": {
      "text/plain": [
       "2000-01-01     94\n",
       "2000-02-01      0\n",
       "2000-03-01    218\n",
       "2000-04-01    125\n",
       "2000-05-01    368\n",
       "2000-06-01     59\n",
       "2000-07-01    444\n",
       "2000-08-01     87\n",
       "2000-09-01    356\n",
       "2000-10-01    487\n",
       "2000-11-01      9\n",
       "2000-12-01    138\n",
       "2001-01-01    210\n",
       "2001-02-01    409\n",
       "2001-03-01    489\n",
       "2001-04-01    354\n",
       "2001-05-01     76\n",
       "2001-06-01    209\n",
       "2001-07-01    495\n",
       "2001-08-01     94\n",
       "2001-09-01    127\n",
       "2001-10-01     23\n",
       "2001-11-01    186\n",
       "2001-12-01      5\n",
       "Freq: MS, dtype: int32"
      ]
     },
     "execution_count": 5,
     "metadata": {},
     "output_type": "execute_result"
    }
   ],
   "source": [
    "import numpy as np\n",
    "index_dump = pd.date_range('2000-1-1', periods=24, freq='MS')\n",
    "s = pd.Series(np.random.randint(0, 500, len(index_dump)), index=index_dump)\n",
    "s"
   ]
  },
  {
   "cell_type": "markdown",
   "metadata": {},
   "source": [
    "### 2 Genera una serie de tiempo cada evento a 15ms durante un día entero.\n"
   ]
  },
  {
   "cell_type": "code",
   "execution_count": 32,
   "metadata": {},
   "outputs": [
    {
     "data": {
      "text/plain": [
       "2000-01-01 00:00:00.000    262\n",
       "2000-01-01 00:00:00.015    392\n",
       "2000-01-01 00:00:00.030    359\n",
       "2000-01-01 00:00:00.045     11\n",
       "2000-01-01 00:00:00.060     13\n",
       "2000-01-01 00:00:00.075    115\n",
       "2000-01-01 00:00:00.090    364\n",
       "2000-01-01 00:00:00.105    461\n",
       "2000-01-01 00:00:00.120    343\n",
       "2000-01-01 00:00:00.135    377\n",
       "2000-01-01 00:00:00.150     38\n",
       "2000-01-01 00:00:00.165    305\n",
       "2000-01-01 00:00:00.180    176\n",
       "2000-01-01 00:00:00.195    169\n",
       "2000-01-01 00:00:00.210    121\n",
       "2000-01-01 00:00:00.225    175\n",
       "2000-01-01 00:00:00.240    216\n",
       "2000-01-01 00:00:00.255    230\n",
       "2000-01-01 00:00:00.270     35\n",
       "2000-01-01 00:00:00.285    163\n",
       "2000-01-01 00:00:00.300    336\n",
       "2000-01-01 00:00:00.315    305\n",
       "2000-01-01 00:00:00.330    446\n",
       "2000-01-01 00:00:00.345    462\n",
       "2000-01-01 00:00:00.360    325\n",
       "2000-01-01 00:00:00.375    183\n",
       "2000-01-01 00:00:00.390      3\n",
       "2000-01-01 00:00:00.405    196\n",
       "2000-01-01 00:00:00.420     71\n",
       "2000-01-01 00:00:00.435    217\n",
       "                          ... \n",
       "2000-01-15 23:59:59.550    342\n",
       "2000-01-15 23:59:59.565    266\n",
       "2000-01-15 23:59:59.580     84\n",
       "2000-01-15 23:59:59.595     25\n",
       "2000-01-15 23:59:59.610    343\n",
       "2000-01-15 23:59:59.625    428\n",
       "2000-01-15 23:59:59.640    481\n",
       "2000-01-15 23:59:59.655    355\n",
       "2000-01-15 23:59:59.670     69\n",
       "2000-01-15 23:59:59.685    268\n",
       "2000-01-15 23:59:59.700    396\n",
       "2000-01-15 23:59:59.715    409\n",
       "2000-01-15 23:59:59.730    436\n",
       "2000-01-15 23:59:59.745     28\n",
       "2000-01-15 23:59:59.760     41\n",
       "2000-01-15 23:59:59.775    108\n",
       "2000-01-15 23:59:59.790      3\n",
       "2000-01-15 23:59:59.805    208\n",
       "2000-01-15 23:59:59.820    214\n",
       "2000-01-15 23:59:59.835     44\n",
       "2000-01-15 23:59:59.850     92\n",
       "2000-01-15 23:59:59.865     75\n",
       "2000-01-15 23:59:59.880    402\n",
       "2000-01-15 23:59:59.895    385\n",
       "2000-01-15 23:59:59.910    124\n",
       "2000-01-15 23:59:59.925    171\n",
       "2000-01-15 23:59:59.940    192\n",
       "2000-01-15 23:59:59.955    194\n",
       "2000-01-15 23:59:59.970    111\n",
       "2000-01-15 23:59:59.985    144\n",
       "Freq: 15L, Length: 86400000, dtype: int32"
      ]
     },
     "execution_count": 32,
     "metadata": {},
     "output_type": "execute_result"
    }
   ],
   "source": [
    "index_dump = pd.date_range('2000-1-1', periods=24*60*60*1000, freq='15L')\n",
    "s = pd.Series(np.random.randint(0, 500, len(index_dump)), index=index_dump)\n",
    "s"
   ]
  },
  {
   "cell_type": "markdown",
   "metadata": {},
   "source": [
    "### 3 ¿Cuál es el viento medio durante el mes de agosto de cada año?"
   ]
  },
  {
   "cell_type": "code",
   "execution_count": 38,
   "metadata": {},
   "outputs": [
    {
     "data": {
      "text/html": [
       "<div>\n",
       "<style scoped>\n",
       "    .dataframe tbody tr th:only-of-type {\n",
       "        vertical-align: middle;\n",
       "    }\n",
       "\n",
       "    .dataframe tbody tr th {\n",
       "        vertical-align: top;\n",
       "    }\n",
       "\n",
       "    .dataframe thead th {\n",
       "        text-align: right;\n",
       "    }\n",
       "</style>\n",
       "<table border=\"1\" class=\"dataframe\">\n",
       "  <thead>\n",
       "    <tr style=\"text-align: right;\">\n",
       "      <th></th>\n",
       "      <th>mean</th>\n",
       "    </tr>\n",
       "    <tr>\n",
       "      <th>idDate</th>\n",
       "      <th></th>\n",
       "    </tr>\n",
       "  </thead>\n",
       "  <tbody>\n",
       "    <tr>\n",
       "      <th>2005-08-31</th>\n",
       "      <td>NaN</td>\n",
       "    </tr>\n",
       "    <tr>\n",
       "      <th>2006-08-31</th>\n",
       "      <td>25.000000</td>\n",
       "    </tr>\n",
       "    <tr>\n",
       "      <th>2007-08-31</th>\n",
       "      <td>24.000000</td>\n",
       "    </tr>\n",
       "    <tr>\n",
       "      <th>2008-08-31</th>\n",
       "      <td>24.222222</td>\n",
       "    </tr>\n",
       "    <tr>\n",
       "      <th>2009-08-31</th>\n",
       "      <td>25.384615</td>\n",
       "    </tr>\n",
       "    <tr>\n",
       "      <th>2010-08-31</th>\n",
       "      <td>24.148148</td>\n",
       "    </tr>\n",
       "    <tr>\n",
       "      <th>2011-08-31</th>\n",
       "      <td>25.258065</td>\n",
       "    </tr>\n",
       "    <tr>\n",
       "      <th>2012-08-31</th>\n",
       "      <td>28.032258</td>\n",
       "    </tr>\n",
       "    <tr>\n",
       "      <th>2013-08-31</th>\n",
       "      <td>25.258065</td>\n",
       "    </tr>\n",
       "    <tr>\n",
       "      <th>2014-08-31</th>\n",
       "      <td>27.096774</td>\n",
       "    </tr>\n",
       "    <tr>\n",
       "      <th>2015-08-31</th>\n",
       "      <td>25.870968</td>\n",
       "    </tr>\n",
       "  </tbody>\n",
       "</table>\n",
       "</div>"
      ],
      "text/plain": [
       "                 mean\n",
       "idDate               \n",
       "2005-08-31        NaN\n",
       "2006-08-31  25.000000\n",
       "2007-08-31  24.000000\n",
       "2008-08-31  24.222222\n",
       "2009-08-31  25.384615\n",
       "2010-08-31  24.148148\n",
       "2011-08-31  25.258065\n",
       "2012-08-31  28.032258\n",
       "2013-08-31  25.258065\n",
       "2014-08-31  27.096774\n",
       "2015-08-31  25.870968"
      ]
     },
     "execution_count": 38,
     "metadata": {},
     "output_type": "execute_result"
    }
   ],
   "source": [
    "de = df.resample(\"M\")[\"temperature_mean\"].agg([np.mean])\n",
    "de[de.index.month == 8]"
   ]
  },
  {
   "cell_type": "markdown",
   "metadata": {},
   "source": [
    "### 4 ¿Cuál es la diferencia de la temperatura media entre los meses de invierno y meses de verano durante 2014?"
   ]
  },
  {
   "cell_type": "code",
   "execution_count": 31,
   "metadata": {},
   "outputs": [
    {
     "name": "stdout",
     "output_type": "stream",
     "text": [
      "La diferencia de temperatura entre verano del 14 y el invierno del 2014-2015 fue de: \n",
      " --> 18.08Cº\n"
     ]
    }
   ],
   "source": [
    "ver=df[\"06-21-2014\":\"09-20-2014\"].temperature_mean.agg([np.mean])\n",
    "invier=df[\"12-21-2014\":\"03-20-2015\"].temperature_mean.agg([np.mean])\n",
    "\n",
    "print ('La diferencia de temperatura entre verano del 14 y el invierno del 2014-2015 fue de: \\n --> {:.4}Cº'.format(ver[0] - invier[0]))\n",
    "\n"
   ]
  },
  {
   "cell_type": "markdown",
   "metadata": {},
   "source": [
    "### 5 ¿Cuántos días de “29/Febrero” hay en los datos de tiempo?"
   ]
  },
  {
   "cell_type": "code",
   "execution_count": 43,
   "metadata": {},
   "outputs": [
    {
     "name": "stdout",
     "output_type": "stream",
     "text": [
      "La cantidad de 29 de febrero son: 2\n"
     ]
    }
   ],
   "source": [
    "dias = df[(df.index.month == 2) & (df.index.day == 29)].idDate.count()\n",
    "print ( 'La cantidad de 29 de febrero son: {}'.format(dias))"
   ]
  }
 ],
 "metadata": {
  "celltoolbar": "Slideshow",
  "kernelspec": {
   "display_name": "Python 3",
   "language": "python",
   "name": "python3"
  },
  "language_info": {
   "codemirror_mode": {
    "name": "ipython",
    "version": 3
   },
   "file_extension": ".py",
   "mimetype": "text/x-python",
   "name": "python",
   "nbconvert_exporter": "python",
   "pygments_lexer": "ipython3",
   "version": "3.6.4"
  }
 },
 "nbformat": 4,
 "nbformat_minor": 1
}
